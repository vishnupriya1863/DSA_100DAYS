{
  "nbformat": 4,
  "nbformat_minor": 0,
  "metadata": {
    "colab": {
      "provenance": [],
      "authorship_tag": "ABX9TyNDsH/xVFNdta3uoD93+zFt",
      "include_colab_link": true
    },
    "kernelspec": {
      "name": "python3",
      "display_name": "Python 3"
    },
    "language_info": {
      "name": "python"
    }
  },
  "cells": [
    {
      "cell_type": "markdown",
      "metadata": {
        "id": "view-in-github",
        "colab_type": "text"
      },
      "source": [
        "<a href=\"https://colab.research.google.com/github/vishnupriya1863/DSA_100DAYS/blob/main/DSA(DAY_2).ipynb\" target=\"_parent\"><img src=\"https://colab.research.google.com/assets/colab-badge.svg\" alt=\"Open In Colab\"/></a>"
      ]
    },
    {
      "cell_type": "code",
      "execution_count": null,
      "metadata": {
        "id": "aqnVz0B3Ldyt"
      },
      "outputs": [],
      "source": [
        "# DAY 2 Python Functions Part -2"
      ]
    },
    {
      "cell_type": "code",
      "source": [
        "# lamda function: anonymous functions : with the lamda keyword\n",
        "# Syntax: lambda arguments : expression\n",
        "PERSON = \"VISHNU PRIYA\"\n",
        "convert= lambda func: func.lower()\n",
        "print(convert(PERSON))"
      ],
      "metadata": {
        "colab": {
          "base_uri": "https://localhost:8080/"
        },
        "id": "2aBnJTA0NCc3",
        "outputId": "01081fcc-c175-481e-9537-57e928d7206d"
      },
      "execution_count": 6,
      "outputs": [
        {
          "output_type": "stream",
          "name": "stdout",
          "text": [
            "vishnu priya\n"
          ]
        }
      ]
    },
    {
      "cell_type": "code",
      "source": [
        "n= lambda x: \"postive\" if x>0 else \"negative\" if x<0 else \"zero\"\n",
        "print(n(20))"
      ],
      "metadata": {
        "colab": {
          "base_uri": "https://localhost:8080/"
        },
        "id": "c89TxQ9uOKwn",
        "outputId": "0e21fddd-6223-4320-e6a4-930bfe0bcebc"
      },
      "execution_count": 9,
      "outputs": [
        {
          "output_type": "stream",
          "name": "stdout",
          "text": [
            "postive\n"
          ]
        }
      ]
    },
    {
      "cell_type": "markdown",
      "source": [],
      "metadata": {
        "id": "_ig6_pQzMwa4"
      }
    },
    {
      "cell_type": "code",
      "source": [
        "li = [lambda arg=x: arg * 10 for x in range(1, 5)]\n",
        "for i in li:\n",
        "  print(i())\n"
      ],
      "metadata": {
        "colab": {
          "base_uri": "https://localhost:8080/"
        },
        "id": "pAAx8HmrQ5Ef",
        "outputId": "6394314f-9938-4d7c-9fb0-cb34d9efcec0"
      },
      "execution_count": 16,
      "outputs": [
        {
          "output_type": "stream",
          "name": "stdout",
          "text": [
            "10\n",
            "20\n",
            "30\n",
            "40\n"
          ]
        }
      ]
    },
    {
      "cell_type": "code",
      "source": [
        "# check even /odd  , here we can also pass various other arguments tooo!\n",
        "n = lambda x: \"even\" if x%2==0 else \"odd\"\n",
        "print(n(3))"
      ],
      "metadata": {
        "colab": {
          "base_uri": "https://localhost:8080/"
        },
        "id": "orfcbTzOQ8Mb",
        "outputId": "aa153e4c-cc4c-48af-eb31-c2d8f0f230e0"
      },
      "execution_count": 17,
      "outputs": [
        {
          "output_type": "stream",
          "name": "stdout",
          "text": [
            "odd\n"
          ]
        }
      ]
    },
    {
      "cell_type": "code",
      "source": [],
      "metadata": {
        "id": "NctNJJkrSbis"
      },
      "execution_count": null,
      "outputs": []
    },
    {
      "cell_type": "markdown",
      "source": [
        "**FILTER**:Syntax: filter(function, sequence)\n",
        "it returns true values only (works without else)"
      ],
      "metadata": {
        "id": "qEGb0mKVS9Ou"
      }
    },
    {
      "cell_type": "code",
      "source": [
        "def even(n):\n",
        "  if n%2==0:\n",
        "    return True\n",
        "\n",
        "\n",
        "a=[1,2,35,5645,78,7,76]\n",
        "b=filter(even,a)\n",
        "print(list(b))"
      ],
      "metadata": {
        "colab": {
          "base_uri": "https://localhost:8080/"
        },
        "id": "Ulpw0nj3ThqE",
        "outputId": "4f8df3ff-fbbe-42a5-b87b-17b3fecdb111"
      },
      "execution_count": 20,
      "outputs": [
        {
          "output_type": "stream",
          "name": "stdout",
          "text": [
            "[2, 78, 76]\n"
          ]
        }
      ]
    },
    {
      "cell_type": "code",
      "source": [
        "# filter with lamda functions\n",
        "a=[12432,235346,456,45,5465,62346,45,26,75]\n",
        "b=filter(lambda x: x%2==0,a)\n",
        "c=map(lambda x:x*2,b)\n",
        "print(list(c))"
      ],
      "metadata": {
        "colab": {
          "base_uri": "https://localhost:8080/"
        },
        "id": "9IIQqQTTT4TV",
        "outputId": "4b485661-fb16-4992-afa7-bf08244ade8a"
      },
      "execution_count": 25,
      "outputs": [
        {
          "output_type": "stream",
          "name": "stdout",
          "text": [
            "[24864, 470692, 912, 124692, 52]\n"
          ]
        }
      ]
    },
    {
      "cell_type": "markdown",
      "source": [
        "**MAP FUNCTION** : maps function to every item in the function\n",
        "\n"
      ],
      "metadata": {
        "id": "ttxBSvJHXjd-"
      }
    },
    {
      "cell_type": "code",
      "source": [
        "a=[1,23,4,32,4,2444,5,2,22,4,2]\n",
        "b=map(float,a)\n",
        "print(list(b))"
      ],
      "metadata": {
        "colab": {
          "base_uri": "https://localhost:8080/"
        },
        "id": "RDu4qbUJVJ5H",
        "outputId": "fab683b8-08b9-4724-866b-3903f1ed54a3"
      },
      "execution_count": 29,
      "outputs": [
        {
          "output_type": "stream",
          "name": "stdout",
          "text": [
            "[1.0, 23.0, 4.0, 32.0, 4.0, 2444.0, 5.0, 2.0, 22.0, 4.0, 2.0]\n"
          ]
        }
      ]
    },
    {
      "cell_type": "code",
      "source": [],
      "metadata": {
        "id": "5qBFZ4BrXrA5"
      },
      "execution_count": null,
      "outputs": []
    },
    {
      "cell_type": "markdown",
      "source": [
        "**REDUCE FUNCTION**: functools.reduce(function, iterable[, initializer])\n",
        "functools module import reduce\n",
        "\n",
        " eg : [1,2,3,4]= we use 2 (x,y)\n",
        "\n"
      ],
      "metadata": {
        "id": "zgFg4v1caR0Y"
      }
    },
    {
      "cell_type": "code",
      "source": [
        "from functools import reduce\n",
        "a=[1,2,3,4,5]\n",
        "b=reduce(lambda x,y: x*y,a)\n",
        "print(b)"
      ],
      "metadata": {
        "colab": {
          "base_uri": "https://localhost:8080/"
        },
        "id": "pz9PXWJGacyP",
        "outputId": "13bc7d14-d1c5-49b7-a780-8f671eaec71d"
      },
      "execution_count": 31,
      "outputs": [
        {
          "output_type": "stream",
          "name": "stdout",
          "text": [
            "120\n"
          ]
        }
      ]
    },
    {
      "cell_type": "code",
      "source": [
        "# use reduce and operator functions together\n",
        "import functools,operator\n",
        "a=[2,3,4,5,3,2,3,4]\n",
        "b=functools.reduce(operator.add,a)\n",
        "print(b)"
      ],
      "metadata": {
        "colab": {
          "base_uri": "https://localhost:8080/"
        },
        "id": "SKac3Wm_cMNg",
        "outputId": "b516a5f6-67b1-4330-f629-9ec7c6d07eb7"
      },
      "execution_count": 32,
      "outputs": [
        {
          "output_type": "stream",
          "name": "stdout",
          "text": [
            "26\n"
          ]
        }
      ]
    },
    {
      "cell_type": "code",
      "source": [
        "# accumulator functions\n",
        "from itertools import accumulate\n",
        "from operator import add\n",
        "\n",
        "# Cumulative sum with accumulate\n",
        "a = [1, 2, 3, 4, 5]\n",
        "res = accumulate(a, add)\n",
        "\n",
        "print(list(res))"
      ],
      "metadata": {
        "colab": {
          "base_uri": "https://localhost:8080/"
        },
        "id": "pwrxSFgaeJxa",
        "outputId": "2ba7d9a9-cfeb-45d1-a223-d3e29a788670"
      },
      "execution_count": 33,
      "outputs": [
        {
          "output_type": "stream",
          "name": "stdout",
          "text": [
            "[1, 3, 6, 10, 15]\n"
          ]
        }
      ]
    },
    {
      "cell_type": "markdown",
      "source": [
        "**INNER FUNCTION**: nexted functions:\n"
      ],
      "metadata": {
        "id": "VQcsRgoTimrY"
      }
    },
    {
      "cell_type": "code",
      "source": [
        "def f1():\n",
        "  s=[\"hi\"]\n",
        "  def f2():\n",
        "    s[0]=\"hello\"\n",
        "    print(s)\n",
        "  f2()\n",
        "\n",
        "\n",
        "  print(s)\n",
        "\n",
        "f1()"
      ],
      "metadata": {
        "colab": {
          "base_uri": "https://localhost:8080/"
        },
        "id": "QkNhMmNtizTp",
        "outputId": "ef1a756e-fb20-4ce8-fde4-d254c7365a4b"
      },
      "execution_count": 44,
      "outputs": [
        {
          "output_type": "stream",
          "name": "stdout",
          "text": [
            "['hello']\n",
            "['hello']\n"
          ]
        }
      ]
    },
    {
      "cell_type": "code",
      "source": [
        "# function variables .s\n",
        "# Python program to\n",
        "# demonstrate accessing of\n",
        "# variables of nested functions\n",
        "\n",
        "def f1():\n",
        "    f1.s = 'I love GeeksforGeeks'\n",
        "\n",
        "    def f2():\n",
        "        f1.s = 'Me too'\n",
        "        print(f1.s)\n",
        "\n",
        "    f2()\n",
        "    print(f1.s)\n",
        "\n",
        "# Driver's code\n",
        "f1()"
      ],
      "metadata": {
        "colab": {
          "base_uri": "https://localhost:8080/"
        },
        "id": "oJzB6kbai8LW",
        "outputId": "51fee5c3-c274-42fc-be30-3681f69684a5"
      },
      "execution_count": 45,
      "outputs": [
        {
          "output_type": "stream",
          "name": "stdout",
          "text": [
            "Me too\n",
            "Me too\n"
          ]
        }
      ]
    },
    {
      "cell_type": "markdown",
      "source": [
        "**DECORATORS**modify and returns the functions"
      ],
      "metadata": {
        "id": "63TkCOwVqgz5"
      }
    },
    {
      "cell_type": "code",
      "source": [
        "# Define a decorator\n",
        "def greet_decorator(func):\n",
        "    def wrapper():\n",
        "        print(\"Hello!\")\n",
        "        func()\n",
        "        print(\"Goodbye!\")\n",
        "    return wrapper\n",
        "\n",
        "# Apply the decorator to a function\n",
        "@greet_decorator\n",
        "def say_name():\n",
        "    print(\"My name is Vishnu Priya.\")\n",
        "\n",
        "# Call the decorated function\n",
        "say_name()\n"
      ],
      "metadata": {
        "colab": {
          "base_uri": "https://localhost:8080/"
        },
        "id": "_Gk9v2D6qeJk",
        "outputId": "d440a751-e3e7-4c53-a66c-a29f0640496a"
      },
      "execution_count": 46,
      "outputs": [
        {
          "output_type": "stream",
          "name": "stdout",
          "text": [
            "Hello!\n",
            "My name is Vishnu Priya.\n",
            "Goodbye!\n"
          ]
        }
      ]
    },
    {
      "cell_type": "code",
      "source": [],
      "metadata": {
        "id": "PB57UK9fqqaG"
      },
      "execution_count": null,
      "outputs": []
    }
  ]
}