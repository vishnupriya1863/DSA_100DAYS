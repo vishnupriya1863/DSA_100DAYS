{
  "nbformat": 4,
  "nbformat_minor": 0,
  "metadata": {
    "colab": {
      "provenance": [],
      "include_colab_link": true
    },
    "kernelspec": {
      "name": "python3",
      "display_name": "Python 3"
    },
    "language_info": {
      "name": "python"
    }
  },
  "cells": [
    {
      "cell_type": "markdown",
      "metadata": {
        "id": "view-in-github",
        "colab_type": "text"
      },
      "source": [
        "<a href=\"https://colab.research.google.com/github/vishnupriya1863/DSA_100DAYS/blob/main/DSA_(DAY_2).ipynb\" target=\"_parent\"><img src=\"https://colab.research.google.com/assets/colab-badge.svg\" alt=\"Open In Colab\"/></a>"
      ]
    },
    {
      "cell_type": "markdown",
      "source": [
        "RECURSION"
      ],
      "metadata": {
        "id": "Hl6fRz3Ln9li"
      }
    },
    {
      "cell_type": "code",
      "source": [
        "def fact(n):\n",
        "  if n==1:\n",
        "    return 1\n",
        "  else:\n",
        "    return n*fact(n-1)\n",
        "print(fact(8))\n"
      ],
      "metadata": {
        "id": "l3ug1_AeoBK3",
        "colab": {
          "base_uri": "https://localhost:8080/"
        },
        "outputId": "f42da563-3bbc-4689-f7d3-ae47895c387e"
      },
      "execution_count": null,
      "outputs": [
        {
          "output_type": "stream",
          "name": "stdout",
          "text": [
            "40320\n"
          ]
        }
      ]
    },
    {
      "cell_type": "code",
      "source": [
        "def fibo(n):\n",
        "  if n==0:\n",
        "    return 0\n",
        "  elif n==1:\n",
        "    return 1\n",
        "  else:\n",
        "    return fibo(n-1) + fibo(n-2)\n",
        "\n",
        "print(fibo(5))\n"
      ],
      "metadata": {
        "colab": {
          "base_uri": "https://localhost:8080/"
        },
        "id": "0qKAEdcSrKiy",
        "outputId": "51fbc8cb-9da9-4210-e592-d802019b1950"
      },
      "execution_count": null,
      "outputs": [
        {
          "output_type": "stream",
          "name": "stdout",
          "text": [
            "5\n"
          ]
        }
      ]
    },
    {
      "cell_type": "markdown",
      "source": [
        "**Tail Recursion:**\n",
        "\n",
        "The recursive call is the last operation in the function.\n",
        "It allows optimization into an iterative loop to reduce stack usage.*italicized text*"
      ],
      "metadata": {
        "id": "WSyoLABBtEDv"
      }
    },
    {
      "cell_type": "markdown",
      "source": [
        "**Non-Tail Recursion:**\n",
        "\n",
        "Operations or calculations occur after the recursive call.\n",
        "Optimization into an iterative loop isn't possible, leading to higher stack usage."
      ],
      "metadata": {
        "id": "2BJABQS3tEKe"
      }
    },
    {
      "cell_type": "code",
      "source": [
        "def tail_fact(n,acc=1):\n",
        "  if n==0:\n",
        "    return acc\n",
        "  else:\n",
        "    return tail_fact(n-1,acc*n)\n",
        "\n",
        "def non_tail(n):\n",
        "  if n==1:\n",
        "    return 1\n",
        "  else:\n",
        "    return n*non_tail(n-1)\n",
        "\n",
        "print(tail_fact(5))\n",
        "print(non_tail(5))"
      ],
      "metadata": {
        "colab": {
          "base_uri": "https://localhost:8080/"
        },
        "id": "p9objKLXqvt8",
        "outputId": "a2d41ea8-4491-4bc9-e586-cb6f4db1a58d"
      },
      "execution_count": null,
      "outputs": [
        {
          "output_type": "stream",
          "name": "stdout",
          "text": [
            "120\n",
            "120\n"
          ]
        }
      ]
    },
    {
      "cell_type": "markdown",
      "source": [
        " **Python *args**\n",
        "\n",
        "The special syntax *args in function definitions is used to pass a variable number of arguments to a function. It is used to pass a non-keyworded, variable-length argument list."
      ],
      "metadata": {
        "id": "R8w4llVNyQdU"
      }
    },
    {
      "cell_type": "code",
      "source": [
        "def myFun(*argv):\n",
        "    for arg in argv:\n",
        "        print(arg)\n",
        "\n",
        "\n",
        "myFun('Hello', 'Welcome', 'to', )"
      ],
      "metadata": {
        "colab": {
          "base_uri": "https://localhost:8080/"
        },
        "id": "zrrc9m7KyVY4",
        "outputId": "6f1c802c-f837-46ac-ecfe-a833b76c88c8"
      },
      "execution_count": null,
      "outputs": [
        {
          "output_type": "stream",
          "name": "stdout",
          "text": [
            "Hello\n",
            "Welcome\n",
            "to\n"
          ]
        }
      ]
    },
    {
      "cell_type": "markdown",
      "source": [
        "Python **kwargs **bold text**\n",
        "\n",
        "The special syntax **kwargs in function definitions is used to pass a variable length argument list. We use the name kwargs with the double star **.\n",
        "\n",
        "    A keyword argument is where you provide a name to the variable as you pass it into the function.\n",
        "    It collects all the additional keyword arguments passed to the function and stores them in a dictionary."
      ],
      "metadata": {
        "id": "pixKGi7oypHY"
      }
    },
    {
      "cell_type": "code",
      "source": [
        "def fun(**kwargs):\n",
        "    for k, val in kwargs.items():\n",
        "        print(\"%s == %s\" % (k, val))\n",
        "\n",
        "\n",
        "# Driver code\n",
        "fun(s1='Geeks', s2='for', s3='Geeks')"
      ],
      "metadata": {
        "colab": {
          "base_uri": "https://localhost:8080/"
        },
        "id": "jSOuhJhqystw",
        "outputId": "36b0d986-d3f7-4335-ce32-464bb6b5d0b5"
      },
      "execution_count": null,
      "outputs": [
        {
          "output_type": "stream",
          "name": "stdout",
          "text": [
            "s1 == Geeks\n",
            "s2 == for\n",
            "s3 == Geeks\n"
          ]
        }
      ]
    },
    {
      "cell_type": "code",
      "source": [
        "class Car:\n",
        "  def __init__(self,brand,model):\n",
        "    self.brand=brand\n",
        "    self.model = model\n",
        "\n",
        "  def display(self):\n",
        "    return self.brand,self.model\n",
        "\n",
        "car1 = Car(\"Toytota\",\"corolla\")\n",
        "\n",
        "print(car1.display())\n"
      ],
      "metadata": {
        "colab": {
          "base_uri": "https://localhost:8080/"
        },
        "id": "oFjIkLmMyuZ1",
        "outputId": "ecdebb35-2e0b-465e-9492-65148e27193b"
      },
      "execution_count": null,
      "outputs": [
        {
          "output_type": "stream",
          "name": "stdout",
          "text": [
            "('Toytota', 'corolla')\n"
          ]
        }
      ]
    },
    {
      "cell_type": "code",
      "source": [
        "class Students:\n",
        "  def __init__(self,name,rollno):\n",
        "    self.name= name\n",
        "    self.rollno = rollno\n",
        "  def Display(self):\n",
        "    return self.name,self.rollno\n",
        "\n",
        "stud = Students(\"Gokul\",\"3pc1323\")\n",
        "\n",
        "print(stud.Display())"
      ],
      "metadata": {
        "colab": {
          "base_uri": "https://localhost:8080/"
        },
        "id": "kSc0EgLM57NC",
        "outputId": "599a360f-7176-4ef8-ca1d-fe82ad3718be"
      },
      "execution_count": null,
      "outputs": [
        {
          "output_type": "stream",
          "name": "stdout",
          "text": [
            "('Gokul', '3pc1323')\n"
          ]
        }
      ]
    },
    {
      "cell_type": "code",
      "source": [
        "def greet(name):\n",
        "  return f\"hello,{name}!\"\n",
        "\n",
        "say=greet\n",
        "print(say(\"gokul\"))"
      ],
      "metadata": {
        "colab": {
          "base_uri": "https://localhost:8080/"
        },
        "id": "Mz2Oux8d7Vrk",
        "outputId": "e4539f00-de57-4ecf-e381-d531c357fc08"
      },
      "execution_count": null,
      "outputs": [
        {
          "output_type": "stream",
          "name": "stdout",
          "text": [
            "hello,gokul!\n"
          ]
        }
      ]
    },
    {
      "cell_type": "code",
      "source": [
        "def add(a,b):\n",
        "  return a+b\n",
        "def operate(func,x,y):\n",
        "  return func(x,y)\n",
        "\n",
        "result = operate(add,10,5)\n",
        "\n",
        "print(result)"
      ],
      "metadata": {
        "colab": {
          "base_uri": "https://localhost:8080/"
        },
        "id": "0g0rklCZ_wra",
        "outputId": "75ba777e-367a-48f6-9cc2-8c46197bd432"
      },
      "execution_count": null,
      "outputs": [
        {
          "output_type": "stream",
          "name": "stdout",
          "text": [
            "15\n"
          ]
        }
      ]
    },
    {
      "cell_type": "code",
      "source": [
        "def multiplier(factor):\n",
        "  def multiply(x):\n",
        "    return x*factor\n",
        "\n",
        "  return multiply\n",
        "\n",
        "times=multiplier(3)\n",
        "\n",
        "\n",
        "print(times(10))"
      ],
      "metadata": {
        "colab": {
          "base_uri": "https://localhost:8080/"
        },
        "id": "hqAxSem7ADnR",
        "outputId": "1589af3c-0938-42aa-d257-94ba7d194120"
      },
      "execution_count": null,
      "outputs": [
        {
          "output_type": "stream",
          "name": "stdout",
          "text": [
            "30\n"
          ]
        }
      ]
    },
    {
      "cell_type": "code",
      "source": [
        "def square(x):\n",
        "  return x**2\n",
        "\n",
        "def cube(x):\n",
        "  return x**3\n",
        "\n",
        "functions = [square,cube ]\n",
        "for func in functions:\n",
        "  print(func(2))"
      ],
      "metadata": {
        "colab": {
          "base_uri": "https://localhost:8080/"
        },
        "id": "mT2xFLPqAeLW",
        "outputId": "b5b30f26-be95-4f34-fabe-d0cd91242642"
      },
      "execution_count": null,
      "outputs": [
        {
          "output_type": "stream",
          "name": "stdout",
          "text": [
            "4\n",
            "8\n"
          ]
        }
      ]
    },
    {
      "cell_type": "code",
      "source": [],
      "metadata": {
        "id": "6IKJGe5kB2i_"
      },
      "execution_count": null,
      "outputs": []
    }
  ]
}
