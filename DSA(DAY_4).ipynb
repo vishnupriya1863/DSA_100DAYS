{
  "nbformat": 4,
  "nbformat_minor": 0,
  "metadata": {
    "colab": {
      "provenance": [],
      "authorship_tag": "ABX9TyPifH/JeJR9jnXgIRcjEuTk",
      "include_colab_link": true
    },
    "kernelspec": {
      "name": "python3",
      "display_name": "Python 3"
    },
    "language_info": {
      "name": "python"
    }
  },
  "cells": [
    {
      "cell_type": "markdown",
      "metadata": {
        "id": "view-in-github",
        "colab_type": "text"
      },
      "source": [
        "<a href=\"https://colab.research.google.com/github/vishnupriya1863/DSA_100DAYS/blob/main/DSA(DAY_4).ipynb\" target=\"_parent\"><img src=\"https://colab.research.google.com/assets/colab-badge.svg\" alt=\"Open In Colab\"/></a>"
      ]
    },
    {
      "cell_type": "code",
      "execution_count": 1,
      "metadata": {
        "id": "p1sV2ngNGRW_"
      },
      "outputs": [],
      "source": [
        "# Inheritance\n",
        "# Syntax for Inheritance\n",
        "# class ParentClass:\n",
        "\n",
        "\n",
        "#     # Parent class code here\n",
        "\n",
        "\n",
        "#     pass\n",
        "\n",
        "\n",
        "# class ChildClass(ParentClass):\n",
        "\n",
        "\n",
        "#     # Child class code here\n",
        "\n",
        "\n",
        "#     pass\n",
        "# now create a parent class"
      ]
    },
    {
      "cell_type": "code",
      "source": [
        "class Person:\n",
        "  def __init__(self,name,age):\n",
        "    self.name=name\n",
        "    self.age=age\n",
        "  def Display(self):\n",
        "    print(self.name,self.age)\n",
        "emp=Person(\"vidhnu \", 27)\n",
        "# print(emp.Display())\n",
        "emp.Display()\n",
        ""
      ],
      "metadata": {
        "colab": {
          "base_uri": "https://localhost:8080/"
        },
        "id": "k04sFsDVIHq_",
        "outputId": "d56ce43a-cb3c-4447-ef60-441289c5ea9f"
      },
      "execution_count": 3,
      "outputs": [
        {
          "output_type": "stream",
          "name": "stdout",
          "text": [
            "vidhnu  27\n"
          ]
        }
      ]
    },
    {
      "cell_type": "code",
      "source": [
        "# now create a child class to that parent\n",
        "class Emp(Person):\n",
        "  def PrintEmpFun(self):\n",
        "    return(\"HI\")\n",
        "emp_details=Emp(\"vishnu\",27)\n",
        "emp_details.Display()\n",
        "emp_details.PrintEmpFun()"
      ],
      "metadata": {
        "colab": {
          "base_uri": "https://localhost:8080/",
          "height": 53
        },
        "id": "CFvA7wAdI8WT",
        "outputId": "7a38364f-339b-4056-bbb2-922da082a22d"
      },
      "execution_count": 6,
      "outputs": [
        {
          "output_type": "stream",
          "name": "stdout",
          "text": [
            "vishnu 27\n"
          ]
        },
        {
          "output_type": "execute_result",
          "data": {
            "text/plain": [
              "'HI'"
            ],
            "application/vnd.google.colaboratory.intrinsic+json": {
              "type": "string"
            }
          },
          "metadata": {},
          "execution_count": 6
        }
      ]
    },
    {
      "cell_type": "code",
      "source": [
        "# note: If the child class does not define its own __init__() method, it will automatically inherit the one from the parent class.\n",
        "# we are using super method\n",
        "# Parent Class: Person\n",
        "class Person:\n",
        "    def __init__(self, name, idnumber):\n",
        "        self.name = name\n",
        "        self.idnumber = idnumber\n",
        "\n",
        "# Child Class: Employee\n",
        "class Employee(Person):\n",
        "    def __init__(self, name, idnumber, salary, post):\n",
        "        super().__init__(name, idnumber)  # Calls Person's __init__()\n",
        "        self.salary = salary\n",
        "        self.post = post"
      ],
      "metadata": {
        "id": "wKLCpM7rJy6f"
      },
      "execution_count": null,
      "outputs": []
    },
    {
      "cell_type": "markdown",
      "source": [],
      "metadata": {
        "id": "jWQfhjUiNwP6"
      }
    },
    {
      "cell_type": "code",
      "source": [
        "# single inheritance\n",
        "class Person:\n",
        "  def __init__(self,name ):\n",
        "    self.name=name\n",
        "\n",
        "class Emp(Person):\n",
        "  def __init__(self,name,age):\n",
        "    super().__init__(name)\n",
        "    self.age=age\n",
        "\n"
      ],
      "metadata": {
        "id": "W-18V7usNwmg"
      },
      "execution_count": 21,
      "outputs": []
    },
    {
      "cell_type": "code",
      "source": [
        "# multiple inheritance\n",
        "class Job:\n",
        "  def __init__(Self,salary):\n",
        "    self.salary= salary\n",
        "class EmpPersonJob(Person,Job):\n",
        "  def __init__(self,name,salary):\n",
        "    self.salary=salary\n",
        "    Person.__init__(self,name)\n",
        "    Job.___init__(Self,salary)"
      ],
      "metadata": {
        "id": "FDJTeiroNyO2"
      },
      "execution_count": 22,
      "outputs": []
    },
    {
      "cell_type": "code",
      "source": [
        "# multilevel inheritnance\n",
        "class Manager(EmpPersonJob):\n",
        "  def __init__(self,name,salary,department):\n",
        "    super().__init__(name,salary)\n",
        "    self.department= department"
      ],
      "metadata": {
        "id": "czZ2miqcPUIR"
      },
      "execution_count": 23,
      "outputs": []
    },
    {
      "cell_type": "code",
      "source": [
        "# hierarchial inheritance\n",
        "class AssistantManager(EmpPersonJob):\n",
        "  def __init__(self, name, salary, team_size):\n",
        "        EmployeePersonJob.__init__(self, name, salary)\n",
        "        self.team_size = team_size"
      ],
      "metadata": {
        "id": "P5CVGO64R1Z9"
      },
      "execution_count": 24,
      "outputs": []
    },
    {
      "cell_type": "code",
      "source": [
        "# hybrid inheritance\n",
        "class SeniorManager(Manager, AssistantManager):\n",
        "    def __init__(self, name, salary, department, team_size):\n",
        "        Manager.__init__(self, name, salary, department)\n",
        "        AssistantManager.__init__(self, name, salary, team_size)"
      ],
      "metadata": {
        "id": "LzXcTohqSOta"
      },
      "execution_count": 25,
      "outputs": []
    },
    {
      "cell_type": "code",
      "source": [
        "# single inheritance\n",
        "emp = Emp(\"John\", 40000)\n",
        "print(emp.name, emp.age)\n",
        "\n",
        "# Multiple Inheritance\n",
        "emp2 = EmpPersonJob( 50000)\n",
        "print(emp2.salary)\n",
        "\n",
        "# Multilevel Inheritance\n",
        "mgr = Manager(\"Bob\", 60000, \"HR\")\n",
        "print(mgr.name, mgr.salary, mgr.department)\n",
        "\n",
        "# Hierarchical Inheritance\n",
        "asst_mgr = AssistantManager(\"Charlie\", 45000, 10)\n",
        "print(asst_mgr.name, asst_mgr.salary, asst_mgr.team_size)\n",
        "\n",
        "# Hybrid Inheritance\n",
        "sen_mgr = SeniorManager(\"David\", 70000, \"Finance\", 20)\n",
        "print(sen_mgr.name, sen_mgr.salary, sen_mgr.department, sen_mgr.team_size)"
      ],
      "metadata": {
        "colab": {
          "base_uri": "https://localhost:8080/",
          "height": 228
        },
        "id": "SQblwiYFShZK",
        "outputId": "b0d9776b-01ad-4188-cdec-979bdaf83bdc"
      },
      "execution_count": 29,
      "outputs": [
        {
          "output_type": "stream",
          "name": "stdout",
          "text": [
            "John 40000\n"
          ]
        },
        {
          "output_type": "error",
          "ename": "TypeError",
          "evalue": "EmpPersonJob.__init__() missing 1 required positional argument: 'salary'",
          "traceback": [
            "\u001b[0;31m---------------------------------------------------------------------------\u001b[0m",
            "\u001b[0;31mTypeError\u001b[0m                                 Traceback (most recent call last)",
            "\u001b[0;32m<ipython-input-29-90279f8443ba>\u001b[0m in \u001b[0;36m<cell line: 6>\u001b[0;34m()\u001b[0m\n\u001b[1;32m      4\u001b[0m \u001b[0;34m\u001b[0m\u001b[0m\n\u001b[1;32m      5\u001b[0m \u001b[0;31m# Multiple Inheritance\u001b[0m\u001b[0;34m\u001b[0m\u001b[0;34m\u001b[0m\u001b[0m\n\u001b[0;32m----> 6\u001b[0;31m \u001b[0memp2\u001b[0m \u001b[0;34m=\u001b[0m \u001b[0mEmpPersonJob\u001b[0m\u001b[0;34m(\u001b[0m \u001b[0;36m50000\u001b[0m\u001b[0;34m)\u001b[0m\u001b[0;34m\u001b[0m\u001b[0;34m\u001b[0m\u001b[0m\n\u001b[0m\u001b[1;32m      7\u001b[0m \u001b[0mprint\u001b[0m\u001b[0;34m(\u001b[0m \u001b[0memp2\u001b[0m\u001b[0;34m.\u001b[0m\u001b[0msalary\u001b[0m\u001b[0;34m)\u001b[0m\u001b[0;34m\u001b[0m\u001b[0;34m\u001b[0m\u001b[0m\n\u001b[1;32m      8\u001b[0m \u001b[0;34m\u001b[0m\u001b[0m\n",
            "\u001b[0;31mTypeError\u001b[0m: EmpPersonJob.__init__() missing 1 required positional argument: 'salary'"
          ]
        }
      ]
    },
    {
      "cell_type": "code",
      "source": [],
      "metadata": {
        "id": "DH8caV6hSzjH"
      },
      "execution_count": null,
      "outputs": []
    }
  ]
}